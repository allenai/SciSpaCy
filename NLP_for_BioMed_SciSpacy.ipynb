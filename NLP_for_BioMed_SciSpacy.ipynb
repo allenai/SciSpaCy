{
  "nbformat": 4,
  "nbformat_minor": 0,
  "metadata": {
    "colab": {
      "name": "NLP for BioMed - SciSpacy",
      "provenance": [],
      "collapsed_sections": []
    },
    "kernelspec": {
      "name": "python3",
      "display_name": "Python 3"
    }
  },
  "cells": [
    {
      "cell_type": "markdown",
      "metadata": {
        "id": "rh5bWO9hLPSJ",
        "colab_type": "text"
      },
      "source": [
        "# **NLP to BioMed - SciSpacy**\n",
        "---\n",
        "The single line platform to establish the libraries and pipelines availble to carry the applications of Natural Language Processing to Bio-Medical Data.\n",
        "\n",
        "Here we use the [SciSpacy](https://github.com/allenai/scispacy) to do the NLP tasks on the sample Biomed-data."
      ]
    },
    {
      "cell_type": "markdown",
      "metadata": {
        "id": "3paWZs2_Yx2z",
        "colab_type": "text"
      },
      "source": [
        "**Installation**\n",
        "---\n",
        "\n",
        "The following packages are installed to carry out the tasks of Natural Language Processing.\n",
        "- Scispacy\n",
        "- Spacy\n",
        "- Pre-trained models ( in detail description of each pre-trained model is given below)\n",
        "\n",
        "**Note**: Please restart the runtime once the below cell is executed, so that it is easy to call the pre-trained model for further actions."
      ]
    },
    {
      "cell_type": "code",
      "metadata": {
        "id": "mgI49yZOTYG5",
        "colab_type": "code",
        "colab": {
          "base_uri": "https://localhost:8080/",
          "height": 1000
        },
        "outputId": "d4e393cb-3987-49e6-b327-e72c7cf1703e"
      },
      "source": [
        "!pip install scispacy==0.2.5\n",
        "\n",
        "!pip install https://s3-us-west-2.amazonaws.com/ai2-s2-scispacy/releases/v0.2.5/en_core_sci_sm-0.2.5.tar.gz\n",
        "!pip install https://s3-us-west-2.amazonaws.com/ai2-s2-scispacy/releases/v0.2.5/en_ner_bc5cdr_md-0.2.5.tar.gz"
      ],
      "execution_count": 1,
      "outputs": [
        {
          "output_type": "stream",
          "text": [
            "Requirement already satisfied: scispacy==0.2.5 in /usr/local/lib/python3.6/dist-packages (0.2.5)\n",
            "Requirement already satisfied: spacy<3.0.0,>=2.3.0 in /usr/local/lib/python3.6/dist-packages (from scispacy==0.2.5) (2.3.2)\n",
            "Requirement already satisfied: pysbd in /usr/local/lib/python3.6/dist-packages (from scispacy==0.2.5) (0.3.2)\n",
            "Requirement already satisfied: numpy in /usr/local/lib/python3.6/dist-packages (from scispacy==0.2.5) (1.18.5)\n",
            "Requirement already satisfied: scikit-learn>=0.20.3 in /usr/local/lib/python3.6/dist-packages (from scispacy==0.2.5) (0.22.2.post1)\n",
            "Requirement already satisfied: joblib in /usr/local/lib/python3.6/dist-packages (from scispacy==0.2.5) (0.16.0)\n",
            "Requirement already satisfied: nmslib>=1.7.3.6 in /usr/local/lib/python3.6/dist-packages (from scispacy==0.2.5) (2.0.6)\n",
            "Requirement already satisfied: requests<3.0.0conllu,>=2.0.0 in /usr/local/lib/python3.6/dist-packages (from scispacy==0.2.5) (2.23.0)\n",
            "Requirement already satisfied: catalogue<1.1.0,>=0.0.7 in /usr/local/lib/python3.6/dist-packages (from spacy<3.0.0,>=2.3.0->scispacy==0.2.5) (1.0.0)\n",
            "Requirement already satisfied: tqdm<5.0.0,>=4.38.0 in /usr/local/lib/python3.6/dist-packages (from spacy<3.0.0,>=2.3.0->scispacy==0.2.5) (4.41.1)\n",
            "Requirement already satisfied: cymem<2.1.0,>=2.0.2 in /usr/local/lib/python3.6/dist-packages (from spacy<3.0.0,>=2.3.0->scispacy==0.2.5) (2.0.3)\n",
            "Requirement already satisfied: plac<1.2.0,>=0.9.6 in /usr/local/lib/python3.6/dist-packages (from spacy<3.0.0,>=2.3.0->scispacy==0.2.5) (1.1.3)\n",
            "Requirement already satisfied: blis<0.5.0,>=0.4.0 in /usr/local/lib/python3.6/dist-packages (from spacy<3.0.0,>=2.3.0->scispacy==0.2.5) (0.4.1)\n",
            "Requirement already satisfied: setuptools in /usr/local/lib/python3.6/dist-packages (from spacy<3.0.0,>=2.3.0->scispacy==0.2.5) (49.6.0)\n",
            "Requirement already satisfied: thinc==7.4.1 in /usr/local/lib/python3.6/dist-packages (from spacy<3.0.0,>=2.3.0->scispacy==0.2.5) (7.4.1)\n",
            "Requirement already satisfied: wasabi<1.1.0,>=0.4.0 in /usr/local/lib/python3.6/dist-packages (from spacy<3.0.0,>=2.3.0->scispacy==0.2.5) (0.7.1)\n",
            "Requirement already satisfied: murmurhash<1.1.0,>=0.28.0 in /usr/local/lib/python3.6/dist-packages (from spacy<3.0.0,>=2.3.0->scispacy==0.2.5) (1.0.2)\n",
            "Requirement already satisfied: preshed<3.1.0,>=3.0.2 in /usr/local/lib/python3.6/dist-packages (from spacy<3.0.0,>=2.3.0->scispacy==0.2.5) (3.0.2)\n",
            "Requirement already satisfied: srsly<1.1.0,>=1.0.2 in /usr/local/lib/python3.6/dist-packages (from spacy<3.0.0,>=2.3.0->scispacy==0.2.5) (1.0.2)\n",
            "Requirement already satisfied: scipy>=0.17.0 in /usr/local/lib/python3.6/dist-packages (from scikit-learn>=0.20.3->scispacy==0.2.5) (1.4.1)\n",
            "Requirement already satisfied: pybind11>=2.2.3 in /usr/local/lib/python3.6/dist-packages (from nmslib>=1.7.3.6->scispacy==0.2.5) (2.5.0)\n",
            "Requirement already satisfied: psutil in /usr/local/lib/python3.6/dist-packages (from nmslib>=1.7.3.6->scispacy==0.2.5) (5.4.8)\n",
            "Requirement already satisfied: idna<3,>=2.5 in /usr/local/lib/python3.6/dist-packages (from requests<3.0.0conllu,>=2.0.0->scispacy==0.2.5) (2.10)\n",
            "Requirement already satisfied: chardet<4,>=3.0.2 in /usr/local/lib/python3.6/dist-packages (from requests<3.0.0conllu,>=2.0.0->scispacy==0.2.5) (3.0.4)\n",
            "Requirement already satisfied: urllib3!=1.25.0,!=1.25.1,<1.26,>=1.21.1 in /usr/local/lib/python3.6/dist-packages (from requests<3.0.0conllu,>=2.0.0->scispacy==0.2.5) (1.24.3)\n",
            "Requirement already satisfied: certifi>=2017.4.17 in /usr/local/lib/python3.6/dist-packages (from requests<3.0.0conllu,>=2.0.0->scispacy==0.2.5) (2020.6.20)\n",
            "Requirement already satisfied: importlib-metadata>=0.20; python_version < \"3.8\" in /usr/local/lib/python3.6/dist-packages (from catalogue<1.1.0,>=0.0.7->spacy<3.0.0,>=2.3.0->scispacy==0.2.5) (1.7.0)\n",
            "Requirement already satisfied: zipp>=0.5 in /usr/local/lib/python3.6/dist-packages (from importlib-metadata>=0.20; python_version < \"3.8\"->catalogue<1.1.0,>=0.0.7->spacy<3.0.0,>=2.3.0->scispacy==0.2.5) (3.1.0)\n",
            "Collecting https://s3-us-west-2.amazonaws.com/ai2-s2-scispacy/releases/v0.2.5/en_core_sci_sm-0.2.5.tar.gz\n",
            "  Using cached https://s3-us-west-2.amazonaws.com/ai2-s2-scispacy/releases/v0.2.5/en_core_sci_sm-0.2.5.tar.gz\n",
            "Requirement already satisfied (use --upgrade to upgrade): en-core-sci-sm==0.2.5 from https://s3-us-west-2.amazonaws.com/ai2-s2-scispacy/releases/v0.2.5/en_core_sci_sm-0.2.5.tar.gz in /usr/local/lib/python3.6/dist-packages\n",
            "Requirement already satisfied: spacy>=2.3.0 in /usr/local/lib/python3.6/dist-packages (from en-core-sci-sm==0.2.5) (2.3.2)\n",
            "Requirement already satisfied: catalogue<1.1.0,>=0.0.7 in /usr/local/lib/python3.6/dist-packages (from spacy>=2.3.0->en-core-sci-sm==0.2.5) (1.0.0)\n",
            "Requirement already satisfied: murmurhash<1.1.0,>=0.28.0 in /usr/local/lib/python3.6/dist-packages (from spacy>=2.3.0->en-core-sci-sm==0.2.5) (1.0.2)\n",
            "Requirement already satisfied: plac<1.2.0,>=0.9.6 in /usr/local/lib/python3.6/dist-packages (from spacy>=2.3.0->en-core-sci-sm==0.2.5) (1.1.3)\n",
            "Requirement already satisfied: requests<3.0.0,>=2.13.0 in /usr/local/lib/python3.6/dist-packages (from spacy>=2.3.0->en-core-sci-sm==0.2.5) (2.23.0)\n",
            "Requirement already satisfied: tqdm<5.0.0,>=4.38.0 in /usr/local/lib/python3.6/dist-packages (from spacy>=2.3.0->en-core-sci-sm==0.2.5) (4.41.1)\n",
            "Requirement already satisfied: setuptools in /usr/local/lib/python3.6/dist-packages (from spacy>=2.3.0->en-core-sci-sm==0.2.5) (49.6.0)\n",
            "Requirement already satisfied: numpy>=1.15.0 in /usr/local/lib/python3.6/dist-packages (from spacy>=2.3.0->en-core-sci-sm==0.2.5) (1.18.5)\n",
            "Requirement already satisfied: thinc==7.4.1 in /usr/local/lib/python3.6/dist-packages (from spacy>=2.3.0->en-core-sci-sm==0.2.5) (7.4.1)\n",
            "Requirement already satisfied: wasabi<1.1.0,>=0.4.0 in /usr/local/lib/python3.6/dist-packages (from spacy>=2.3.0->en-core-sci-sm==0.2.5) (0.7.1)\n",
            "Requirement already satisfied: srsly<1.1.0,>=1.0.2 in /usr/local/lib/python3.6/dist-packages (from spacy>=2.3.0->en-core-sci-sm==0.2.5) (1.0.2)\n",
            "Requirement already satisfied: preshed<3.1.0,>=3.0.2 in /usr/local/lib/python3.6/dist-packages (from spacy>=2.3.0->en-core-sci-sm==0.2.5) (3.0.2)\n",
            "Requirement already satisfied: cymem<2.1.0,>=2.0.2 in /usr/local/lib/python3.6/dist-packages (from spacy>=2.3.0->en-core-sci-sm==0.2.5) (2.0.3)\n",
            "Requirement already satisfied: blis<0.5.0,>=0.4.0 in /usr/local/lib/python3.6/dist-packages (from spacy>=2.3.0->en-core-sci-sm==0.2.5) (0.4.1)\n",
            "Requirement already satisfied: importlib-metadata>=0.20; python_version < \"3.8\" in /usr/local/lib/python3.6/dist-packages (from catalogue<1.1.0,>=0.0.7->spacy>=2.3.0->en-core-sci-sm==0.2.5) (1.7.0)\n",
            "Requirement already satisfied: certifi>=2017.4.17 in /usr/local/lib/python3.6/dist-packages (from requests<3.0.0,>=2.13.0->spacy>=2.3.0->en-core-sci-sm==0.2.5) (2020.6.20)\n",
            "Requirement already satisfied: chardet<4,>=3.0.2 in /usr/local/lib/python3.6/dist-packages (from requests<3.0.0,>=2.13.0->spacy>=2.3.0->en-core-sci-sm==0.2.5) (3.0.4)\n",
            "Requirement already satisfied: idna<3,>=2.5 in /usr/local/lib/python3.6/dist-packages (from requests<3.0.0,>=2.13.0->spacy>=2.3.0->en-core-sci-sm==0.2.5) (2.10)\n",
            "Requirement already satisfied: urllib3!=1.25.0,!=1.25.1,<1.26,>=1.21.1 in /usr/local/lib/python3.6/dist-packages (from requests<3.0.0,>=2.13.0->spacy>=2.3.0->en-core-sci-sm==0.2.5) (1.24.3)\n",
            "Requirement already satisfied: zipp>=0.5 in /usr/local/lib/python3.6/dist-packages (from importlib-metadata>=0.20; python_version < \"3.8\"->catalogue<1.1.0,>=0.0.7->spacy>=2.3.0->en-core-sci-sm==0.2.5) (3.1.0)\n",
            "Building wheels for collected packages: en-core-sci-sm\n",
            "  Building wheel for en-core-sci-sm (setup.py) ... \u001b[?25l\u001b[?25hdone\n",
            "  Created wheel for en-core-sci-sm: filename=en_core_sci_sm-0.2.5-cp36-none-any.whl size=33155838 sha256=d4b6d6f7031a9320f6ccc1b6c1691bb0103981244f3e81bb82eb8fdb773a2a29\n",
            "  Stored in directory: /root/.cache/pip/wheels/24/38/1b/67d4ad18da43aa62deaca08a05fa0dc8595116a82154448f88\n",
            "Successfully built en-core-sci-sm\n",
            "Collecting https://s3-us-west-2.amazonaws.com/ai2-s2-scispacy/releases/v0.2.5/en_ner_bc5cdr_md-0.2.5.tar.gz\n",
            "\u001b[?25l  Downloading https://s3-us-west-2.amazonaws.com/ai2-s2-scispacy/releases/v0.2.5/en_ner_bc5cdr_md-0.2.5.tar.gz (79.9MB)\n",
            "\u001b[K     |████████████████████████████████| 79.9MB 51kB/s \n",
            "\u001b[?25hRequirement already satisfied: spacy>=2.3.0 in /usr/local/lib/python3.6/dist-packages (from en-ner-bc5cdr-md==0.2.5) (2.3.2)\n",
            "Requirement already satisfied: srsly<1.1.0,>=1.0.2 in /usr/local/lib/python3.6/dist-packages (from spacy>=2.3.0->en-ner-bc5cdr-md==0.2.5) (1.0.2)\n",
            "Requirement already satisfied: preshed<3.1.0,>=3.0.2 in /usr/local/lib/python3.6/dist-packages (from spacy>=2.3.0->en-ner-bc5cdr-md==0.2.5) (3.0.2)\n",
            "Requirement already satisfied: setuptools in /usr/local/lib/python3.6/dist-packages (from spacy>=2.3.0->en-ner-bc5cdr-md==0.2.5) (49.6.0)\n",
            "Requirement already satisfied: requests<3.0.0,>=2.13.0 in /usr/local/lib/python3.6/dist-packages (from spacy>=2.3.0->en-ner-bc5cdr-md==0.2.5) (2.23.0)\n",
            "Requirement already satisfied: cymem<2.1.0,>=2.0.2 in /usr/local/lib/python3.6/dist-packages (from spacy>=2.3.0->en-ner-bc5cdr-md==0.2.5) (2.0.3)\n",
            "Requirement already satisfied: murmurhash<1.1.0,>=0.28.0 in /usr/local/lib/python3.6/dist-packages (from spacy>=2.3.0->en-ner-bc5cdr-md==0.2.5) (1.0.2)\n",
            "Requirement already satisfied: plac<1.2.0,>=0.9.6 in /usr/local/lib/python3.6/dist-packages (from spacy>=2.3.0->en-ner-bc5cdr-md==0.2.5) (1.1.3)\n",
            "Requirement already satisfied: catalogue<1.1.0,>=0.0.7 in /usr/local/lib/python3.6/dist-packages (from spacy>=2.3.0->en-ner-bc5cdr-md==0.2.5) (1.0.0)\n",
            "Requirement already satisfied: blis<0.5.0,>=0.4.0 in /usr/local/lib/python3.6/dist-packages (from spacy>=2.3.0->en-ner-bc5cdr-md==0.2.5) (0.4.1)\n",
            "Requirement already satisfied: tqdm<5.0.0,>=4.38.0 in /usr/local/lib/python3.6/dist-packages (from spacy>=2.3.0->en-ner-bc5cdr-md==0.2.5) (4.41.1)\n",
            "Requirement already satisfied: thinc==7.4.1 in /usr/local/lib/python3.6/dist-packages (from spacy>=2.3.0->en-ner-bc5cdr-md==0.2.5) (7.4.1)\n",
            "Requirement already satisfied: numpy>=1.15.0 in /usr/local/lib/python3.6/dist-packages (from spacy>=2.3.0->en-ner-bc5cdr-md==0.2.5) (1.18.5)\n",
            "Requirement already satisfied: wasabi<1.1.0,>=0.4.0 in /usr/local/lib/python3.6/dist-packages (from spacy>=2.3.0->en-ner-bc5cdr-md==0.2.5) (0.7.1)\n",
            "Requirement already satisfied: certifi>=2017.4.17 in /usr/local/lib/python3.6/dist-packages (from requests<3.0.0,>=2.13.0->spacy>=2.3.0->en-ner-bc5cdr-md==0.2.5) (2020.6.20)\n",
            "Requirement already satisfied: idna<3,>=2.5 in /usr/local/lib/python3.6/dist-packages (from requests<3.0.0,>=2.13.0->spacy>=2.3.0->en-ner-bc5cdr-md==0.2.5) (2.10)\n",
            "Requirement already satisfied: urllib3!=1.25.0,!=1.25.1,<1.26,>=1.21.1 in /usr/local/lib/python3.6/dist-packages (from requests<3.0.0,>=2.13.0->spacy>=2.3.0->en-ner-bc5cdr-md==0.2.5) (1.24.3)\n",
            "Requirement already satisfied: chardet<4,>=3.0.2 in /usr/local/lib/python3.6/dist-packages (from requests<3.0.0,>=2.13.0->spacy>=2.3.0->en-ner-bc5cdr-md==0.2.5) (3.0.4)\n",
            "Requirement already satisfied: importlib-metadata>=0.20; python_version < \"3.8\" in /usr/local/lib/python3.6/dist-packages (from catalogue<1.1.0,>=0.0.7->spacy>=2.3.0->en-ner-bc5cdr-md==0.2.5) (1.7.0)\n",
            "Requirement already satisfied: zipp>=0.5 in /usr/local/lib/python3.6/dist-packages (from importlib-metadata>=0.20; python_version < \"3.8\"->catalogue<1.1.0,>=0.0.7->spacy>=2.3.0->en-ner-bc5cdr-md==0.2.5) (3.1.0)\n",
            "Building wheels for collected packages: en-ner-bc5cdr-md\n",
            "  Building wheel for en-ner-bc5cdr-md (setup.py) ... \u001b[?25l\u001b[?25hdone\n",
            "  Created wheel for en-ner-bc5cdr-md: filename=en_ner_bc5cdr_md-0.2.5-cp36-none-any.whl size=79995880 sha256=d07bafaf589abfd931314ffede0fe2be6c1dda6d540c27dc972f04bb41a68761\n",
            "  Stored in directory: /root/.cache/pip/wheels/1f/b9/d5/e785e95b29fd336953b334bc78c942fbd29a1903c062a8a26b\n",
            "Successfully built en-ner-bc5cdr-md\n",
            "Installing collected packages: en-ner-bc5cdr-md\n",
            "Successfully installed en-ner-bc5cdr-md-0.2.5\n"
          ],
          "name": "stdout"
        }
      ]
    },
    {
      "cell_type": "markdown",
      "metadata": {
        "id": "5cy_k4FOZczE",
        "colab_type": "text"
      },
      "source": [
        "**Configuration and Libraries:**\n",
        "\n",
        "The libraries are imported once intalled.\n",
        "\n"
      ]
    },
    {
      "cell_type": "code",
      "metadata": {
        "id": "2xmSemCPW8XW",
        "colab_type": "code",
        "colab": {}
      },
      "source": [
        "import spacy\n",
        "import scispacy\n",
        "from spacy import displacy"
      ],
      "execution_count": 1,
      "outputs": []
    },
    {
      "cell_type": "markdown",
      "metadata": {
        "id": "3S2tQ8hjaOvo",
        "colab_type": "text"
      },
      "source": [
        "**Sample Data**"
      ]
    },
    {
      "cell_type": "code",
      "metadata": {
        "id": "1YF7tg4bUAHt",
        "colab_type": "code",
        "colab": {}
      },
      "source": [
        "abstract = \"Corticobasal syndrome (CBS) is a rare cognitive and movement disorder characterized by asymmetric rigidity, apraxia, alien-limb phenomenon, cortical sensory loss, myoclonus, focal dystonia, and dementia. It occurs along the clinical spectrum of frontotemporal lobar degeneration (FTLD), which has recently been shown to segregate with truncating mutations in progranulin (PGRN), a multifunctional growth factor thought to promote neuronal survival. This study identifies a novel splice donor site mutation in the PGRN gene (IVS7+1G→A) that segregates with CBS in a Canadian family of Chinese origin. We confirmed the absence of the mutant PGRN allele in the RT–PCR product which supports the model of haploinsufficiency for PGRN-linked disease. This report of mutation in the PGRN gene in CBS extends the evidence for genetic and phenotypic heterogeneity in FTLD spectrum disorders.\""
      ],
      "execution_count": 2,
      "outputs": []
    },
    {
      "cell_type": "markdown",
      "metadata": {
        "id": "cclcweTNUnaT",
        "colab_type": "text"
      },
      "source": [
        "## **Abbreviation Detector**\n",
        "\n",
        "The following pipeline of detection algorithm is used to identify the abbreviation definitions in the Biomedical Text\n",
        "\n",
        "E.g. : \n",
        "  - CBS: Corticobasal Syndrome\n",
        "  - FTLD: Frontotemporal lobar degeneration"
      ]
    },
    {
      "cell_type": "code",
      "metadata": {
        "id": "mv80DjVmTTY9",
        "colab_type": "code",
        "colab": {
          "base_uri": "https://localhost:8080/",
          "height": 187
        },
        "outputId": "749fafa5-15eb-48a1-9330-4dd50c17e859"
      },
      "source": [
        "from scispacy.abbreviation import AbbreviationDetector\n",
        "\n",
        "nlp = spacy.load('en_ner_bc5cdr_md')\n",
        "\n",
        "abbreviation_pipe = AbbreviationDetector(nlp)\n",
        "nlp.add_pipe(abbreviation_pipe)\n",
        "\n",
        "doc = nlp(abstract)\n",
        "\n",
        "print(\"Abbreviation\", \"\\t\", \"Definition\")\n",
        "\n",
        "for abrv in doc._.abbreviations:\n",
        "\t\tprint(f\"{abrv} :\\t {abrv._.long_form}\")"
      ],
      "execution_count": 3,
      "outputs": [
        {
          "output_type": "stream",
          "text": [
            "Abbreviation \t Definition\n",
            "CBS :\t Corticobasal syndrome\n",
            "CBS :\t Corticobasal syndrome\n",
            "CBS :\t Corticobasal syndrome\n",
            "FTLD :\t frontotemporal lobar degeneration\n",
            "FTLD :\t frontotemporal lobar degeneration\n",
            "PGRN :\t progranulin\n",
            "PGRN :\t progranulin\n",
            "PGRN :\t progranulin\n",
            "PGRN :\t progranulin\n"
          ],
          "name": "stdout"
        }
      ]
    },
    {
      "cell_type": "markdown",
      "metadata": {
        "id": "zDjxPZVpaNri",
        "colab_type": "text"
      },
      "source": [
        "**Entity Linker**\n",
        "---\n",
        "The following pipeline is used to link the entities such that it can be used to fetch the information from the nearest search in terms of definition, aliases etc.\n",
        "\n",
        "E.g. : \n",
        "  - Name: CBS gene\n",
        "  - Definition: This gene plays a role in transsulfuration\n",
        "  - Aliases: CBS Gene, CYSTATHIONINE BETA-SYNTHASE, cystathionine-beta-synthase\n",
        "\n",
        "Parameters that are to be tuned for the above application:\n",
        "- *resolve_abbreviations* : bool = True, optional (default = False) Whether to resolve abbreviations identified in the Doc before performing linking. This parameter has no effect if there is no AbbreviationDetector in the spacy pipeline.\n",
        "\n",
        "- *k* : int, optional, (default = 30) The number of nearest neighbours to look up from the candidate generator per mention.\n",
        "- *threshold* : float, optional, (default = 0.7) The threshold that a mention candidate must reach to be added to the mention in the Doc as a mention candidate.\n",
        "\n",
        "- *no_definition_threshold* : float, optional, (default = 0.95) The threshold that a entity candidate must reach to be added to the mention in the Doc as a mention candidate if the entity candidate does not have a definition.\n",
        "\n",
        "- *filter_for_definitions*: bool, default = True Whether to filter entities that can be returned to only include those with definitions in the knowledge base.\n",
        "- *max_entities_per_mention* : int, optional, default = 5 The maximum number of entities which will be returned for a given mention, regardless of how many are nearest neighbours are found."
      ]
    },
    {
      "cell_type": "code",
      "metadata": {
        "id": "6GsNP2XIPhjW",
        "colab_type": "code",
        "colab": {
          "base_uri": "https://localhost:8080/",
          "height": 479
        },
        "outputId": "92604d2a-67b6-46aa-8a37-dcb28fd9ff03"
      },
      "source": [
        "from scispacy.linking import EntityLinker\n",
        "\n",
        "nlp = spacy.load('en_core_sci_sm')\n",
        "\n",
        "entity_linker = EntityLinker(resolve_abbreviations=True, name=\"umls\")\n",
        "nlp.add_pipe(entity_linker)\n",
        "\n",
        "doc = nlp(abstract)\n",
        "\n",
        "entity = doc.ents[3]\n",
        "\n",
        "print(\"Name: \", entity)\n",
        "\n",
        "for umls_ent in entity._.kb_ents:\n",
        "\tprint(entity_linker.kb.cui_to_entity[umls_ent[0]])"
      ],
      "execution_count": 3,
      "outputs": [
        {
          "output_type": "stream",
          "text": [
            "Name:  movement disorder\n",
            "CUI: C0026650, Name: Movement Disorders\n",
            "Definition: Syndromes which feature DYSKINESIAS as a cardinal manifestation of the disease process. Included in this category are degenerative, hereditary, post-infectious, medication-induced, post-inflammatory, and post-traumatic conditions.\n",
            "TUI(s): T047\n",
            "Aliases (abbreviated, total: 23): \n",
            "\t Movement Disorders, Movement Disorders, Movement Disorders, Movement disorders, Movement disorders, movement disorders, Movement Disorder, Movement Disorder, movement disorder, movement disorder\n",
            "CUI: C0028850, Name: Ocular Motility Disorders\n",
            "Definition: Disorders that feature impairment of eye movements as a primary manifestation of disease. These conditions may be divided into infranuclear, nuclear, and supranuclear disorders. Diseases of the eye muscles or oculomotor cranial nerves (III, IV, and VI) are considered infranuclear. Nuclear disorders are caused by disease of the oculomotor, trochlear, or abducens nuclei in the BRAIN STEM. Supranuclear disorders are produced by dysfunction of higher order sensory and motor systems that control eye movements, including neural networks in the CEREBRAL CORTEX; BASAL GANGLIA; CEREBELLUM; and BRAIN STEM. Ocular torticollis refers to a head tilt that is caused by an ocular misalignment. Opsoclonus refers to rapid, conjugate oscillations of the eyes in multiple directions, which may occur as a parainfectious or paraneoplastic condition (e.g., OPSOCLONUS-MYOCLONUS SYNDROME). (Adams et al., Principles of Neurology, 6th ed, p240)\n",
            "TUI(s): T047\n",
            "Aliases (abbreviated, total: 17): \n",
            "\t Ocular Motility Disorder, ocular motility disorder, Eye Motility Disorders, eye motility disorders, Eye Motility Disorder, eye motility disorder, Unspecified disorder of eye movements, Eye Movement Disorders, Eye Movement Disorders, eye movement disorders\n",
            "CUI: C0242951, Name: Anti-Dyskinesia Agents\n",
            "Definition: Drugs used in the treatment of movement disorders. Most of these act centrally on dopaminergic or cholinergic systems. Among the most important clinically are those used for the treatment of Parkinson disease (ANTIPARKINSON AGENTS) and those for the tardive dyskinesias.\n",
            "TUI(s): T121\n",
            "Aliases: (total: 5): \n",
            "\t Anti Dyskinesia Agents, Agents, Anti-Dyskinesia, Movement Disorder Agents, Agents, Movement Disorder, Disorder Agents, Movement\n",
            "CUI: C4273557, Name: Functional movement disorder\n",
            "Definition: The occurrence of abnormal involuntary movements that are incongruent with a known neurologic cause and are significantly improved on neurological exam with distraction or non-physiologic maneuvers. The disorder is defined by its clinical appearance, rather than by any causative speculation.\n",
            "TUI(s): T184\n",
            "Aliases: (total: 1): \n",
            "\t Functional movement disorder (disorder)\n",
            "CUI: C0454455, Name: Mirror movements disorder\n",
            "Definition: Involuntary movements of one hand that accompany and mirror intentional movements of the opposite hand. [HPO:probinson, PMID:22412265, PMID:28945198]\n",
            "TUI(s): T047\n",
            "Aliases: (total: 10): \n",
            "\t mirror movement disorder, Mirror movements (disorder), Mirror movements, Mirror movements, Mirror movements, mirror movements, mirror movement, Bimanual synkinesia, Hand mirror movements, Mirror hand movements\n"
          ],
          "name": "stdout"
        }
      ]
    },
    {
      "cell_type": "markdown",
      "metadata": {
        "id": "wUWblw9UVXul",
        "colab_type": "text"
      },
      "source": [
        "**Name Entity Recognition**\n",
        "---\n",
        "\n",
        "\n"
      ]
    },
    {
      "cell_type": "code",
      "metadata": {
        "id": "tMrZKm8ZX8Cu",
        "colab_type": "code",
        "colab": {
          "base_uri": "https://localhost:8080/",
          "height": 227
        },
        "outputId": "eece0b70-563f-48ae-ef19-7720bdba3b71"
      },
      "source": [
        "nlp_ner = spacy.load('en_ner_bc5cdr_md')\n",
        "doc_ner = nlp_ner(abstract)\n",
        "\n",
        "output_ner = displacy.render(doc_ner, jupyter = True, style = \"ent\")"
      ],
      "execution_count": 3,
      "outputs": [
        {
          "output_type": "display_data",
          "data": {
            "text/html": [
              "<span class=\"tex2jax_ignore\"><div class=\"entities\" style=\"line-height: 2.5; direction: ltr\">\n",
              "<mark class=\"entity\" style=\"background: #ddd; padding: 0.45em 0.6em; margin: 0 0.25em; line-height: 1; border-radius: 0.35em;\">\n",
              "    Corticobasal syndrome\n",
              "    <span style=\"font-size: 0.8em; font-weight: bold; line-height: 1; border-radius: 0.35em; text-transform: uppercase; vertical-align: middle; margin-left: 0.5rem\">DISEASE</span>\n",
              "</mark>\n",
              " (\n",
              "<mark class=\"entity\" style=\"background: #ddd; padding: 0.45em 0.6em; margin: 0 0.25em; line-height: 1; border-radius: 0.35em;\">\n",
              "    CBS\n",
              "    <span style=\"font-size: 0.8em; font-weight: bold; line-height: 1; border-radius: 0.35em; text-transform: uppercase; vertical-align: middle; margin-left: 0.5rem\">DISEASE</span>\n",
              "</mark>\n",
              ") is a rare \n",
              "<mark class=\"entity\" style=\"background: #ddd; padding: 0.45em 0.6em; margin: 0 0.25em; line-height: 1; border-radius: 0.35em;\">\n",
              "    cognitive and movement disorder\n",
              "    <span style=\"font-size: 0.8em; font-weight: bold; line-height: 1; border-radius: 0.35em; text-transform: uppercase; vertical-align: middle; margin-left: 0.5rem\">DISEASE</span>\n",
              "</mark>\n",
              " characterized by asymmetric \n",
              "<mark class=\"entity\" style=\"background: #ddd; padding: 0.45em 0.6em; margin: 0 0.25em; line-height: 1; border-radius: 0.35em;\">\n",
              "    rigidity\n",
              "    <span style=\"font-size: 0.8em; font-weight: bold; line-height: 1; border-radius: 0.35em; text-transform: uppercase; vertical-align: middle; margin-left: 0.5rem\">DISEASE</span>\n",
              "</mark>\n",
              ", \n",
              "<mark class=\"entity\" style=\"background: #ddd; padding: 0.45em 0.6em; margin: 0 0.25em; line-height: 1; border-radius: 0.35em;\">\n",
              "    apraxia\n",
              "    <span style=\"font-size: 0.8em; font-weight: bold; line-height: 1; border-radius: 0.35em; text-transform: uppercase; vertical-align: middle; margin-left: 0.5rem\">DISEASE</span>\n",
              "</mark>\n",
              ", alien-limb phenomenon, \n",
              "<mark class=\"entity\" style=\"background: #ddd; padding: 0.45em 0.6em; margin: 0 0.25em; line-height: 1; border-radius: 0.35em;\">\n",
              "    cortical sensory loss\n",
              "    <span style=\"font-size: 0.8em; font-weight: bold; line-height: 1; border-radius: 0.35em; text-transform: uppercase; vertical-align: middle; margin-left: 0.5rem\">DISEASE</span>\n",
              "</mark>\n",
              ", \n",
              "<mark class=\"entity\" style=\"background: #ddd; padding: 0.45em 0.6em; margin: 0 0.25em; line-height: 1; border-radius: 0.35em;\">\n",
              "    myoclonus\n",
              "    <span style=\"font-size: 0.8em; font-weight: bold; line-height: 1; border-radius: 0.35em; text-transform: uppercase; vertical-align: middle; margin-left: 0.5rem\">DISEASE</span>\n",
              "</mark>\n",
              ", focal \n",
              "<mark class=\"entity\" style=\"background: #ddd; padding: 0.45em 0.6em; margin: 0 0.25em; line-height: 1; border-radius: 0.35em;\">\n",
              "    dystonia\n",
              "    <span style=\"font-size: 0.8em; font-weight: bold; line-height: 1; border-radius: 0.35em; text-transform: uppercase; vertical-align: middle; margin-left: 0.5rem\">DISEASE</span>\n",
              "</mark>\n",
              ", and \n",
              "<mark class=\"entity\" style=\"background: #ddd; padding: 0.45em 0.6em; margin: 0 0.25em; line-height: 1; border-radius: 0.35em;\">\n",
              "    dementia\n",
              "    <span style=\"font-size: 0.8em; font-weight: bold; line-height: 1; border-radius: 0.35em; text-transform: uppercase; vertical-align: middle; margin-left: 0.5rem\">DISEASE</span>\n",
              "</mark>\n",
              ". It occurs along the clinical spectrum of \n",
              "<mark class=\"entity\" style=\"background: #ddd; padding: 0.45em 0.6em; margin: 0 0.25em; line-height: 1; border-radius: 0.35em;\">\n",
              "    frontotemporal lobar degeneration\n",
              "    <span style=\"font-size: 0.8em; font-weight: bold; line-height: 1; border-radius: 0.35em; text-transform: uppercase; vertical-align: middle; margin-left: 0.5rem\">DISEASE</span>\n",
              "</mark>\n",
              " (\n",
              "<mark class=\"entity\" style=\"background: #ddd; padding: 0.45em 0.6em; margin: 0 0.25em; line-height: 1; border-radius: 0.35em;\">\n",
              "    FTLD\n",
              "    <span style=\"font-size: 0.8em; font-weight: bold; line-height: 1; border-radius: 0.35em; text-transform: uppercase; vertical-align: middle; margin-left: 0.5rem\">DISEASE</span>\n",
              "</mark>\n",
              "), which has recently been shown to segregate with truncating mutations in \n",
              "<mark class=\"entity\" style=\"background: #ddd; padding: 0.45em 0.6em; margin: 0 0.25em; line-height: 1; border-radius: 0.35em;\">\n",
              "    progranulin\n",
              "    <span style=\"font-size: 0.8em; font-weight: bold; line-height: 1; border-radius: 0.35em; text-transform: uppercase; vertical-align: middle; margin-left: 0.5rem\">CHEMICAL</span>\n",
              "</mark>\n",
              " (\n",
              "<mark class=\"entity\" style=\"background: #ddd; padding: 0.45em 0.6em; margin: 0 0.25em; line-height: 1; border-radius: 0.35em;\">\n",
              "    PGRN\n",
              "    <span style=\"font-size: 0.8em; font-weight: bold; line-height: 1; border-radius: 0.35em; text-transform: uppercase; vertical-align: middle; margin-left: 0.5rem\">CHEMICAL</span>\n",
              "</mark>\n",
              "), a multifunctional growth factor thought to promote neuronal survival. This study identifies a novel splice donor site mutation in the \n",
              "<mark class=\"entity\" style=\"background: #ddd; padding: 0.45em 0.6em; margin: 0 0.25em; line-height: 1; border-radius: 0.35em;\">\n",
              "    PGRN gene (IVS7\n",
              "    <span style=\"font-size: 0.8em; font-weight: bold; line-height: 1; border-radius: 0.35em; text-transform: uppercase; vertical-align: middle; margin-left: 0.5rem\">CHEMICAL</span>\n",
              "</mark>\n",
              "+1G→A) that segregates with \n",
              "<mark class=\"entity\" style=\"background: #ddd; padding: 0.45em 0.6em; margin: 0 0.25em; line-height: 1; border-radius: 0.35em;\">\n",
              "    CBS\n",
              "    <span style=\"font-size: 0.8em; font-weight: bold; line-height: 1; border-radius: 0.35em; text-transform: uppercase; vertical-align: middle; margin-left: 0.5rem\">DISEASE</span>\n",
              "</mark>\n",
              " in a Canadian family of Chinese origin. We confirmed the absence of the mutant \n",
              "<mark class=\"entity\" style=\"background: #ddd; padding: 0.45em 0.6em; margin: 0 0.25em; line-height: 1; border-radius: 0.35em;\">\n",
              "    PGRN\n",
              "    <span style=\"font-size: 0.8em; font-weight: bold; line-height: 1; border-radius: 0.35em; text-transform: uppercase; vertical-align: middle; margin-left: 0.5rem\">CHEMICAL</span>\n",
              "</mark>\n",
              " allele in the RT–PCR product which supports the model of \n",
              "<mark class=\"entity\" style=\"background: #ddd; padding: 0.45em 0.6em; margin: 0 0.25em; line-height: 1; border-radius: 0.35em;\">\n",
              "    haploinsufficiency\n",
              "    <span style=\"font-size: 0.8em; font-weight: bold; line-height: 1; border-radius: 0.35em; text-transform: uppercase; vertical-align: middle; margin-left: 0.5rem\">DISEASE</span>\n",
              "</mark>\n",
              " for \n",
              "<mark class=\"entity\" style=\"background: #ddd; padding: 0.45em 0.6em; margin: 0 0.25em; line-height: 1; border-radius: 0.35em;\">\n",
              "    PGRN-linked disease\n",
              "    <span style=\"font-size: 0.8em; font-weight: bold; line-height: 1; border-radius: 0.35em; text-transform: uppercase; vertical-align: middle; margin-left: 0.5rem\">DISEASE</span>\n",
              "</mark>\n",
              ". This report of mutation in the PGRN gene in CBS extends the evidence for genetic and phenotypic heterogeneity in \n",
              "<mark class=\"entity\" style=\"background: #ddd; padding: 0.45em 0.6em; margin: 0 0.25em; line-height: 1; border-radius: 0.35em;\">\n",
              "    FTLD\n",
              "    <span style=\"font-size: 0.8em; font-weight: bold; line-height: 1; border-radius: 0.35em; text-transform: uppercase; vertical-align: middle; margin-left: 0.5rem\">DISEASE</span>\n",
              "</mark>\n",
              " spectrum disorders.</div></span>"
            ],
            "text/plain": [
              "<IPython.core.display.HTML object>"
            ]
          },
          "metadata": {
            "tags": []
          }
        }
      ]
    },
    {
      "cell_type": "markdown",
      "metadata": {
        "id": "AlWhcc7vFV2t",
        "colab_type": "text"
      },
      "source": [
        "**Pre-trained Models for Bio-Medical Data**\n",
        "---\n",
        "**en_core_sci_sm** : A full spaCy pipeline for biomedical data with a ~100k vocabulary.\t [Download](https://s3-us-west-2.amazonaws.com/ai2-s2-scispacy/releases/v0.2.5/en_core_sci_sm-0.2.5.tar.gz)\n",
        "\n",
        "**en_core_sci_md** : A full spaCy pipeline for biomedical data with a ~360k vocabulary and 50k word vectors. [Download](https://s3-us-west-2.amazonaws.com/ai2-s2-scispacy/releases/v0.2.5/en_core_sci_md-0.2.5.tar.gz)\n",
        "\n",
        "**en_core_sci_lg** : A full spaCy pipeline for biomedical data with a ~785k vocabulary and 600k word vectors. [Download](https://s3-us-west-2.amazonaws.com/ai2-s2-scispacy/releases/v0.2.5/en_core_sci_lg-0.2.5.tar.gz)\n",
        "\n",
        "***NER Models***:\n",
        "\n",
        "\n",
        "**en_ner_craft_md** : A spaCy NER model trained on the CRAFT corpus. [Download](https://s3-us-west-2.amazonaws.com/ai2-s2-scispacy/releases/v0.2.5/en_ner_craft_md-0.2.5.tar.gz)\n",
        "\n",
        "**en_ner_jnlpba_md** : A spaCy NER model trained on the JNLPBA corpus. [Download](https://s3-us-west-2.amazonaws.com/ai2-s2-scispacy/releases/v0.2.5/en_ner_jnlpba_md-0.2.5.tar.gz)\n",
        "\n",
        "**en_ner_bc5cdr_md** : \tA spaCy NER model trained on the BC5CDR corpus. [Download](https://s3-us-west-2.amazonaws.com/ai2-s2-scispacy/releases/v0.2.5/en_ner_bc5cdr_md-0.2.5.tar.gz)\n",
        "\n",
        "**en_ner_bionlp13cg_md** : A spaCy NER model trained on the BIONLP13CG corpus. [Download](https://s3-us-west-2.amazonaws.com/ai2-s2-scispacy/releases/v0.2.5/en_ner_bionlp13cg_md-0.2.5.tar.gz)"
      ]
    },
    {
      "cell_type": "markdown",
      "metadata": {
        "id": "UmJ3HmJDgJRC",
        "colab_type": "text"
      },
      "source": [
        "#### References:\n",
        "- [ScispaCy: Fast and Robust Models for Biomedical Natural Language Processing](https://www.semanticscholar.org/paper/ScispaCy%3A-Fast-and-Robust-Models-for-Biomedical-Neumann-King/de28ec1d7bd38c8fc4e8ac59b6133800818b4e29) \n",
        "- [AllenAI](https://github.com/allenai/scispacy)\n",
        "\n"
      ]
    },
    {
      "cell_type": "code",
      "metadata": {
        "id": "I0b7cjHggIsY",
        "colab_type": "code",
        "colab": {}
      },
      "source": [
        ""
      ],
      "execution_count": null,
      "outputs": []
    }
  ]
}